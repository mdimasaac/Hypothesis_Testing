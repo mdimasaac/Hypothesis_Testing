{
 "cells": [
  {
   "cell_type": "markdown",
   "metadata": {},
   "source": [
    "# Before you start:\n",
    "- Read the README.md file\n",
    "- Comment as much as you can and use the resources (README.md file)\n",
    "- Happy learning!"
   ]
  },
  {
   "cell_type": "code",
   "execution_count": 1,
   "metadata": {},
   "outputs": [],
   "source": [
    "# import numpy and pandas\n",
    "import pandas as pd\n",
    "import numpy as np"
   ]
  },
  {
   "cell_type": "markdown",
   "metadata": {},
   "source": [
    "# Challenge 1 - Exploring the Data\n",
    "\n",
    "In this challenge, we will examine all salaries of employees of the City of Chicago. We will start by loading the dataset and examining its contents. "
   ]
  },
  {
   "cell_type": "code",
   "execution_count": 2,
   "metadata": {},
   "outputs": [
    {
     "data": {
      "text/plain": [
       "(33702, 8)"
      ]
     },
     "metadata": {},
     "output_type": "display_data"
    },
    {
     "data": {
      "text/plain": [
       "Name                  object\n",
       "Job Titles            object\n",
       "Department            object\n",
       "Full or Part-Time     object\n",
       "Salary or Hourly      object\n",
       "Typical Hours        float64\n",
       "Annual Salary        float64\n",
       "Hourly Rate          float64\n",
       "dtype: object"
      ]
     },
     "metadata": {},
     "output_type": "display_data"
    }
   ],
   "source": [
    "# Your code here:\n",
    "data = pd.read_csv(\"Current_Employee_Names__Salaries__and_Position_Titles.csv\")\n",
    "display(data.shape)\n",
    "display(data.dtypes)"
   ]
  },
  {
   "cell_type": "markdown",
   "metadata": {},
   "source": [
    "Examine the `salaries` dataset using the `head` function below."
   ]
  },
  {
   "attachments": {},
   "cell_type": "markdown",
   "metadata": {},
   "source": [
    "and put snakecase while we're at it."
   ]
  },
  {
   "cell_type": "code",
   "execution_count": 3,
   "metadata": {},
   "outputs": [
    {
     "data": {
      "text/html": [
       "<div>\n",
       "<style scoped>\n",
       "    .dataframe tbody tr th:only-of-type {\n",
       "        vertical-align: middle;\n",
       "    }\n",
       "\n",
       "    .dataframe tbody tr th {\n",
       "        vertical-align: top;\n",
       "    }\n",
       "\n",
       "    .dataframe thead th {\n",
       "        text-align: right;\n",
       "    }\n",
       "</style>\n",
       "<table border=\"1\" class=\"dataframe\">\n",
       "  <thead>\n",
       "    <tr style=\"text-align: right;\">\n",
       "      <th></th>\n",
       "      <th>name</th>\n",
       "      <th>job_titles</th>\n",
       "      <th>department</th>\n",
       "      <th>full_or_part-time</th>\n",
       "      <th>salary_or_hourly</th>\n",
       "      <th>typical_hours</th>\n",
       "      <th>annual_salary</th>\n",
       "      <th>hourly_rate</th>\n",
       "    </tr>\n",
       "  </thead>\n",
       "  <tbody>\n",
       "    <tr>\n",
       "      <th>0</th>\n",
       "      <td>ADRIANO,  RACQUEL ANNE</td>\n",
       "      <td>PARAMEDIC</td>\n",
       "      <td>FIRE</td>\n",
       "      <td>F</td>\n",
       "      <td>Salary</td>\n",
       "      <td>NaN</td>\n",
       "      <td>72510.0</td>\n",
       "      <td>NaN</td>\n",
       "    </tr>\n",
       "    <tr>\n",
       "      <th>1</th>\n",
       "      <td>AFFANEH,  MAHIR A</td>\n",
       "      <td>POLICE OFFICER</td>\n",
       "      <td>POLICE</td>\n",
       "      <td>F</td>\n",
       "      <td>Salary</td>\n",
       "      <td>NaN</td>\n",
       "      <td>93354.0</td>\n",
       "      <td>NaN</td>\n",
       "    </tr>\n",
       "    <tr>\n",
       "      <th>2</th>\n",
       "      <td>AFOENYI,  PHYLLIS</td>\n",
       "      <td>TITLE V PROGRAM TRAINEE I</td>\n",
       "      <td>FAMILY &amp; SUPPORT</td>\n",
       "      <td>P</td>\n",
       "      <td>Hourly</td>\n",
       "      <td>20.0</td>\n",
       "      <td>NaN</td>\n",
       "      <td>13.0</td>\n",
       "    </tr>\n",
       "    <tr>\n",
       "      <th>3</th>\n",
       "      <td>AGAR,  BULENT B</td>\n",
       "      <td>DEPUTY COMMISSIONER</td>\n",
       "      <td>WATER MGMNT</td>\n",
       "      <td>F</td>\n",
       "      <td>Salary</td>\n",
       "      <td>NaN</td>\n",
       "      <td>132972.0</td>\n",
       "      <td>NaN</td>\n",
       "    </tr>\n",
       "    <tr>\n",
       "      <th>4</th>\n",
       "      <td>AGEE,  LAWRENCE</td>\n",
       "      <td>POLICE OFFICER</td>\n",
       "      <td>POLICE</td>\n",
       "      <td>F</td>\n",
       "      <td>Salary</td>\n",
       "      <td>NaN</td>\n",
       "      <td>90024.0</td>\n",
       "      <td>NaN</td>\n",
       "    </tr>\n",
       "  </tbody>\n",
       "</table>\n",
       "</div>"
      ],
      "text/plain": [
       "                     name                 job_titles        department  \\\n",
       "0  ADRIANO,  RACQUEL ANNE                  PARAMEDIC              FIRE   \n",
       "1       AFFANEH,  MAHIR A             POLICE OFFICER            POLICE   \n",
       "2       AFOENYI,  PHYLLIS  TITLE V PROGRAM TRAINEE I  FAMILY & SUPPORT   \n",
       "3         AGAR,  BULENT B        DEPUTY COMMISSIONER       WATER MGMNT   \n",
       "4         AGEE,  LAWRENCE             POLICE OFFICER            POLICE   \n",
       "\n",
       "  full_or_part-time salary_or_hourly  typical_hours  annual_salary  \\\n",
       "0                 F           Salary            NaN        72510.0   \n",
       "1                 F           Salary            NaN        93354.0   \n",
       "2                 P           Hourly           20.0            NaN   \n",
       "3                 F           Salary            NaN       132972.0   \n",
       "4                 F           Salary            NaN        90024.0   \n",
       "\n",
       "   hourly_rate  \n",
       "0          NaN  \n",
       "1          NaN  \n",
       "2         13.0  \n",
       "3          NaN  \n",
       "4          NaN  "
      ]
     },
     "metadata": {},
     "output_type": "display_data"
    }
   ],
   "source": [
    "# Your code here:\n",
    "cols=[]\n",
    "for i in data.columns:\n",
    "    cols.append(i.lower())\n",
    "data.columns = cols\n",
    "data.columns = data.columns.str.replace(' ', '_')\n",
    "display(data.head())\n"
   ]
  },
  {
   "cell_type": "markdown",
   "metadata": {},
   "source": [
    "We see from looking at the `head` function that there is quite a bit of missing data. Let's examine how much missing data is in each column. Produce this output in the cell below"
   ]
  },
  {
   "cell_type": "code",
   "execution_count": 4,
   "metadata": {},
   "outputs": [
    {
     "data": {
      "text/plain": [
       "name                     0\n",
       "job_titles               0\n",
       "department               0\n",
       "full_or_part-time        0\n",
       "salary_or_hourly         0\n",
       "typical_hours        25528\n",
       "annual_salary         8174\n",
       "hourly_rate          25528\n",
       "dtype: int64"
      ]
     },
     "execution_count": 4,
     "metadata": {},
     "output_type": "execute_result"
    }
   ],
   "source": [
    "# Your code here:\n",
    "data.isna().sum()"
   ]
  },
  {
   "cell_type": "markdown",
   "metadata": {},
   "source": [
    "Let's also look at the count of hourly vs. salaried employees. Write the code in the cell below"
   ]
  },
  {
   "cell_type": "code",
   "execution_count": 5,
   "metadata": {},
   "outputs": [
    {
     "data": {
      "text/plain": [
       "Salary    25528\n",
       "Hourly     8174\n",
       "Name: salary_or_hourly, dtype: int64"
      ]
     },
     "execution_count": 5,
     "metadata": {},
     "output_type": "execute_result"
    }
   ],
   "source": [
    "# Your code here:\n",
    "data[\"salary_or_hourly\"].value_counts()\n"
   ]
  },
  {
   "cell_type": "markdown",
   "metadata": {},
   "source": [
    "What this information indicates is that the table contains information about two types of employees - salaried and hourly. Some columns apply only to one type of employee while other columns only apply to another kind. This is why there are so many missing values. Therefore, we will not do anything to handle the missing values."
   ]
  },
  {
   "cell_type": "markdown",
   "metadata": {},
   "source": [
    "There are different departments in the city. List all departments and the count of employees in each department."
   ]
  },
  {
   "cell_type": "code",
   "execution_count": 6,
   "metadata": {},
   "outputs": [
    {
     "data": {
      "text/html": [
       "<div>\n",
       "<style scoped>\n",
       "    .dataframe tbody tr th:only-of-type {\n",
       "        vertical-align: middle;\n",
       "    }\n",
       "\n",
       "    .dataframe tbody tr th {\n",
       "        vertical-align: top;\n",
       "    }\n",
       "\n",
       "    .dataframe thead th {\n",
       "        text-align: right;\n",
       "    }\n",
       "</style>\n",
       "<table border=\"1\" class=\"dataframe\">\n",
       "  <thead>\n",
       "    <tr style=\"text-align: right;\">\n",
       "      <th></th>\n",
       "      <th>name</th>\n",
       "    </tr>\n",
       "    <tr>\n",
       "      <th>department</th>\n",
       "      <th></th>\n",
       "    </tr>\n",
       "  </thead>\n",
       "  <tbody>\n",
       "    <tr>\n",
       "      <th>ADMIN HEARNG</th>\n",
       "      <td>38</td>\n",
       "    </tr>\n",
       "    <tr>\n",
       "      <th>ANIMAL CONTRL</th>\n",
       "      <td>75</td>\n",
       "    </tr>\n",
       "    <tr>\n",
       "      <th>AVIATION</th>\n",
       "      <td>1856</td>\n",
       "    </tr>\n",
       "    <tr>\n",
       "      <th>BOARD OF ELECTION</th>\n",
       "      <td>111</td>\n",
       "    </tr>\n",
       "    <tr>\n",
       "      <th>BOARD OF ETHICS</th>\n",
       "      <td>8</td>\n",
       "    </tr>\n",
       "    <tr>\n",
       "      <th>BUDGET &amp; MGMT</th>\n",
       "      <td>44</td>\n",
       "    </tr>\n",
       "    <tr>\n",
       "      <th>BUILDINGS</th>\n",
       "      <td>258</td>\n",
       "    </tr>\n",
       "    <tr>\n",
       "      <th>BUSINESS AFFAIRS</th>\n",
       "      <td>167</td>\n",
       "    </tr>\n",
       "    <tr>\n",
       "      <th>CITY CLERK</th>\n",
       "      <td>88</td>\n",
       "    </tr>\n",
       "    <tr>\n",
       "      <th>CITY COUNCIL</th>\n",
       "      <td>362</td>\n",
       "    </tr>\n",
       "    <tr>\n",
       "      <th>COPA</th>\n",
       "      <td>123</td>\n",
       "    </tr>\n",
       "    <tr>\n",
       "      <th>CULTURAL AFFAIRS</th>\n",
       "      <td>74</td>\n",
       "    </tr>\n",
       "    <tr>\n",
       "      <th>DAIS</th>\n",
       "      <td>1033</td>\n",
       "    </tr>\n",
       "    <tr>\n",
       "      <th>DISABILITIES</th>\n",
       "      <td>28</td>\n",
       "    </tr>\n",
       "    <tr>\n",
       "      <th>FAMILY &amp; SUPPORT</th>\n",
       "      <td>656</td>\n",
       "    </tr>\n",
       "    <tr>\n",
       "      <th>FINANCE</th>\n",
       "      <td>544</td>\n",
       "    </tr>\n",
       "    <tr>\n",
       "      <th>FIRE</th>\n",
       "      <td>4627</td>\n",
       "    </tr>\n",
       "    <tr>\n",
       "      <th>HEALTH</th>\n",
       "      <td>467</td>\n",
       "    </tr>\n",
       "    <tr>\n",
       "      <th>HOUSING</th>\n",
       "      <td>66</td>\n",
       "    </tr>\n",
       "    <tr>\n",
       "      <th>HOUSING &amp; ECON DEV</th>\n",
       "      <td>154</td>\n",
       "    </tr>\n",
       "    <tr>\n",
       "      <th>HUMAN RELATIONS</th>\n",
       "      <td>17</td>\n",
       "    </tr>\n",
       "    <tr>\n",
       "      <th>HUMAN RESOURCES</th>\n",
       "      <td>75</td>\n",
       "    </tr>\n",
       "    <tr>\n",
       "      <th>INSPECTOR GEN</th>\n",
       "      <td>95</td>\n",
       "    </tr>\n",
       "    <tr>\n",
       "      <th>LAW</th>\n",
       "      <td>398</td>\n",
       "    </tr>\n",
       "    <tr>\n",
       "      <th>LICENSE APPL COMM</th>\n",
       "      <td>1</td>\n",
       "    </tr>\n",
       "    <tr>\n",
       "      <th>MAYOR'S OFFICE</th>\n",
       "      <td>104</td>\n",
       "    </tr>\n",
       "    <tr>\n",
       "      <th>OEMC</th>\n",
       "      <td>1737</td>\n",
       "    </tr>\n",
       "    <tr>\n",
       "      <th>POLICE</th>\n",
       "      <td>13848</td>\n",
       "    </tr>\n",
       "    <tr>\n",
       "      <th>POLICE BOARD</th>\n",
       "      <td>2</td>\n",
       "    </tr>\n",
       "    <tr>\n",
       "      <th>PROCUREMENT</th>\n",
       "      <td>84</td>\n",
       "    </tr>\n",
       "    <tr>\n",
       "      <th>PUBLIC LIBRARY</th>\n",
       "      <td>1088</td>\n",
       "    </tr>\n",
       "    <tr>\n",
       "      <th>PUBLIC SAFETY ADMIN</th>\n",
       "      <td>244</td>\n",
       "    </tr>\n",
       "    <tr>\n",
       "      <th>STREETS &amp; SAN</th>\n",
       "      <td>2175</td>\n",
       "    </tr>\n",
       "    <tr>\n",
       "      <th>TRANSPORTN</th>\n",
       "      <td>1113</td>\n",
       "    </tr>\n",
       "    <tr>\n",
       "      <th>TREASURER</th>\n",
       "      <td>28</td>\n",
       "    </tr>\n",
       "    <tr>\n",
       "      <th>WATER MGMNT</th>\n",
       "      <td>1914</td>\n",
       "    </tr>\n",
       "  </tbody>\n",
       "</table>\n",
       "</div>"
      ],
      "text/plain": [
       "                      name\n",
       "department                \n",
       "ADMIN HEARNG            38\n",
       "ANIMAL CONTRL           75\n",
       "AVIATION              1856\n",
       "BOARD OF ELECTION      111\n",
       "BOARD OF ETHICS          8\n",
       "BUDGET & MGMT           44\n",
       "BUILDINGS              258\n",
       "BUSINESS AFFAIRS       167\n",
       "CITY CLERK              88\n",
       "CITY COUNCIL           362\n",
       "COPA                   123\n",
       "CULTURAL AFFAIRS        74\n",
       "DAIS                  1033\n",
       "DISABILITIES            28\n",
       "FAMILY & SUPPORT       656\n",
       "FINANCE                544\n",
       "FIRE                  4627\n",
       "HEALTH                 467\n",
       "HOUSING                 66\n",
       "HOUSING & ECON DEV     154\n",
       "HUMAN RELATIONS         17\n",
       "HUMAN RESOURCES         75\n",
       "INSPECTOR GEN           95\n",
       "LAW                    398\n",
       "LICENSE APPL COMM        1\n",
       "MAYOR'S OFFICE         104\n",
       "OEMC                  1737\n",
       "POLICE               13848\n",
       "POLICE BOARD             2\n",
       "PROCUREMENT             84\n",
       "PUBLIC LIBRARY        1088\n",
       "PUBLIC SAFETY ADMIN    244\n",
       "STREETS & SAN         2175\n",
       "TRANSPORTN            1113\n",
       "TREASURER               28\n",
       "WATER MGMNT           1914"
      ]
     },
     "execution_count": 6,
     "metadata": {},
     "output_type": "execute_result"
    }
   ],
   "source": [
    "# Your code here:\n",
    "data.pivot_table(index = \"department\", values = \"name\", aggfunc = {\"name\":\"count\"})\n"
   ]
  },
  {
   "cell_type": "markdown",
   "metadata": {},
   "source": [
    "# Challenge 2 - Hypothesis Tests\n",
    "\n",
    "In this section of the lab, we will test whether the hourly wage of all hourly workers is significantly different from $30/hr. Import the correct one sample test function from scipy and perform the hypothesis test for a 95% two sided confidence interval."
   ]
  },
  {
   "cell_type": "code",
   "execution_count": 9,
   "metadata": {},
   "outputs": [
    {
     "data": {
      "text/plain": [
       "(8174, 7)"
      ]
     },
     "metadata": {},
     "output_type": "display_data"
    },
    {
     "data": {
      "text/plain": [
       "name                 0\n",
       "job_titles           0\n",
       "department           0\n",
       "full_or_part-time    0\n",
       "salary_or_hourly     0\n",
       "typical_hours        0\n",
       "hourly_rate          0\n",
       "dtype: int64"
      ]
     },
     "metadata": {},
     "output_type": "display_data"
    }
   ],
   "source": [
    "data_hourly = data.dropna(subset = \"hourly_rate\")\n",
    "data_hourly = data_hourly.drop(\"annual_salary\", axis = 1)\n",
    "display(data_hourly.shape)\n",
    "display(data_hourly.isna().sum())"
   ]
  },
  {
   "cell_type": "code",
   "execution_count": 25,
   "metadata": {},
   "outputs": [],
   "source": [
    "# Your code here:\n",
    "# so the H0 would be hourly salary == 30.0\n",
    "# means the H1 would be hourly salary <> 30.0\n",
    "import scipy.stats\n",
    "confidence_level1 = 0.95\n",
    "degrees_freedom1 = (data_hourly.shape[0]) - 1\n",
    "sample_mean1 = data_hourly[\"hourly_rate\"].mean()\n",
    "sample_standard_error1 = scipy.stats.sem(data_hourly[\"hourly_rate\"])\n",
    "confidence_interval1 = scipy.stats.t.interval(confidence_level1, \n",
    "                                             degrees_freedom1, \n",
    "                                             sample_mean1, \n",
    "                                             sample_standard_error1)"
   ]
  },
  {
   "cell_type": "code",
   "execution_count": 27,
   "metadata": {},
   "outputs": [
    {
     "name": "stdout",
     "output_type": "stream",
     "text": [
      "confidence interval: (34.29839539204317, 34.874504045196865) .\n"
     ]
    }
   ],
   "source": [
    "print( 'confidence interval:', confidence_interval1, '.' )"
   ]
  },
  {
   "cell_type": "code",
   "execution_count": 29,
   "metadata": {},
   "outputs": [],
   "source": [
    "from scipy.stats import ttest_1samp\n",
    "stat1, pval1 = ttest_1samp(data_hourly[\"hourly_rate\"], 30)"
   ]
  },
  {
   "cell_type": "code",
   "execution_count": 30,
   "metadata": {},
   "outputs": [
    {
     "name": "stdout",
     "output_type": "stream",
     "text": [
      "stat\t\t\t\t: 31.211500329216044\n",
      "pvalue for the two-tailed test\t: 3.825475847673794e-202\n"
     ]
    }
   ],
   "source": [
    "print('stat\\t\\t\\t\\t:', stat1)\n",
    "print('pvalue for the two-tailed test\\t:', pval1)"
   ]
  },
  {
   "cell_type": "code",
   "execution_count": null,
   "metadata": {},
   "outputs": [],
   "source": [
    "# the p-value is 0.00000... a lot smaller than 0.5.\n",
    "# means we reject the null hypothesis H0.\n",
    "# means the hourly rate is not equal 30.0$/hr"
   ]
  },
  {
   "cell_type": "markdown",
   "metadata": {},
   "source": [
    "We are also curious about salaries in the police force. The chief of police in Chicago claimed in a press briefing that salaries this year are higher than last year's mean of $86000/year a year for all salaried employees. Test this one sided hypothesis using a 95% confidence interval.\n",
    "\n",
    "Hint: A one tailed test has a p-value that is half of the two tailed p-value. If our hypothesis is greater than, then to reject, the test statistic must also be positive."
   ]
  },
  {
   "cell_type": "code",
   "execution_count": 23,
   "metadata": {},
   "outputs": [
    {
     "data": {
      "text/plain": [
       "(13824, 6)"
      ]
     },
     "metadata": {},
     "output_type": "display_data"
    },
    {
     "data": {
      "text/plain": [
       "name                 0\n",
       "job_titles           0\n",
       "department           0\n",
       "full_or_part-time    0\n",
       "salary_or_hourly     0\n",
       "annual_salary        0\n",
       "dtype: int64"
      ]
     },
     "metadata": {},
     "output_type": "display_data"
    }
   ],
   "source": [
    "# Your code here:\n",
    "data_salary = data.dropna(subset = \"annual_salary\")\n",
    "data_salary = data_salary.drop([\"hourly_rate\",\"typical_hours\"], axis = 1)\n",
    "data_police = data_salary[data_salary[\"department\"] == \"POLICE\"]\n",
    "display(data_police.shape)\n",
    "display(data_police.isna().sum())\n"
   ]
  },
  {
   "cell_type": "code",
   "execution_count": 33,
   "metadata": {},
   "outputs": [],
   "source": [
    "# H0: annual salary <= 86000\n",
    "# H1: annual salary > 86000\n",
    "confidence_level2 = 0.95\n",
    "degrees_freedom2 = (data_police.shape[0]) - 1\n",
    "sample_mean2 = data_police[\"annual_salary\"].mean()\n",
    "sample_standard_error2 = scipy.stats.sem(data_police[\"annual_salary\"])\n",
    "confidence_interval2 = scipy.stats.t.interval(confidence_level2, \n",
    "                                             degrees_freedom2, \n",
    "                                             sample_mean2, \n",
    "                                             sample_standard_error2)"
   ]
  },
  {
   "cell_type": "code",
   "execution_count": 32,
   "metadata": {},
   "outputs": [
    {
     "name": "stdout",
     "output_type": "stream",
     "text": [
      "confidence interval: (88534.1182885883, 89134.11955863392) .\n"
     ]
    }
   ],
   "source": [
    "print( 'confidence interval:', confidence_interval2, '.' )"
   ]
  },
  {
   "cell_type": "code",
   "execution_count": 36,
   "metadata": {},
   "outputs": [
    {
     "name": "stdout",
     "output_type": "stream",
     "text": [
      "stat\t\t\t\t: 18.51748561981861\n",
      "pvalue for the two-tailed test\t: 6.119566952121482e-76\n"
     ]
    }
   ],
   "source": [
    "stat2, pval2 = ttest_1samp(data_police[\"annual_salary\"], 86000)\n",
    "print('stat\\t\\t\\t\\t:', stat2)\n",
    "print('pvalue for the two-tailed test\\t:', pval2/2)"
   ]
  },
  {
   "cell_type": "code",
   "execution_count": null,
   "metadata": {},
   "outputs": [],
   "source": [
    "# we reject the \"equal\" part because the p-value is way lower than 0.05\n",
    "# stat is positive, that means the symbol should be \"greater than\"\n",
    "# therefore we can reject the null hypothesis"
   ]
  },
  {
   "cell_type": "markdown",
   "metadata": {},
   "source": [
    "Using the `crosstab` function, find the department that has the most hourly workers. "
   ]
  },
  {
   "cell_type": "code",
   "execution_count": 47,
   "metadata": {},
   "outputs": [
    {
     "data": {
      "text/html": [
       "<div>\n",
       "<style scoped>\n",
       "    .dataframe tbody tr th:only-of-type {\n",
       "        vertical-align: middle;\n",
       "    }\n",
       "\n",
       "    .dataframe tbody tr th {\n",
       "        vertical-align: top;\n",
       "    }\n",
       "\n",
       "    .dataframe thead th {\n",
       "        text-align: right;\n",
       "    }\n",
       "</style>\n",
       "<table border=\"1\" class=\"dataframe\">\n",
       "  <thead>\n",
       "    <tr style=\"text-align: right;\">\n",
       "      <th>salary_or_hourly</th>\n",
       "      <th>Hourly</th>\n",
       "    </tr>\n",
       "    <tr>\n",
       "      <th>department</th>\n",
       "      <th></th>\n",
       "    </tr>\n",
       "  </thead>\n",
       "  <tbody>\n",
       "    <tr>\n",
       "      <th>STREETS &amp; SAN</th>\n",
       "      <td>1846</td>\n",
       "    </tr>\n",
       "  </tbody>\n",
       "</table>\n",
       "</div>"
      ],
      "text/plain": [
       "salary_or_hourly  Hourly\n",
       "department              \n",
       "STREETS & SAN       1846"
      ]
     },
     "execution_count": 47,
     "metadata": {},
     "output_type": "execute_result"
    }
   ],
   "source": [
    "# Your code here:\n",
    "data_crosstab = pd.crosstab(data_hourly.department, data_hourly[\"salary_or_hourly\"])\n",
    "data_crosstab.sort_values(by = \"Hourly\", ascending = 0).head(1)"
   ]
  },
  {
   "cell_type": "markdown",
   "metadata": {},
   "source": [
    "The workers from the department with the most hourly workers have complained that their hourly wage is less than $35/hour. Using a one sample t-test, test this one-sided hypothesis at the 95% confidence level."
   ]
  },
  {
   "cell_type": "code",
   "execution_count": 50,
   "metadata": {},
   "outputs": [],
   "source": [
    "data_ss = data_hourly[data_hourly[\"department\"] == \"STREETS & SAN\"]"
   ]
  },
  {
   "cell_type": "code",
   "execution_count": 51,
   "metadata": {},
   "outputs": [],
   "source": [
    "# Your code here:\n",
    "# h0: hourly rate >= 35.0\n",
    "# h1: hourly rate < 35.0\n",
    "confidence_level3 = 0.95\n",
    "degrees_freedom3 = (data_ss.shape[0]) - 1\n",
    "sample_mean3 = data_ss[\"hourly_rate\"].mean()\n",
    "sample_standard_error3 = scipy.stats.sem(data_ss[\"hourly_rate\"])\n",
    "confidence_interval3 = scipy.stats.t.interval(confidence_level3, \n",
    "                                             degrees_freedom3, \n",
    "                                             sample_mean3, \n",
    "                                             sample_standard_error3)\n"
   ]
  },
  {
   "cell_type": "code",
   "execution_count": 52,
   "metadata": {},
   "outputs": [
    {
     "name": "stdout",
     "output_type": "stream",
     "text": [
      "confidence interval: (35.28150811892106, 35.82308559722194) .\n"
     ]
    }
   ],
   "source": [
    "print( 'confidence interval:', confidence_interval3, '.' )"
   ]
  },
  {
   "cell_type": "code",
   "execution_count": 53,
   "metadata": {},
   "outputs": [
    {
     "name": "stdout",
     "output_type": "stream",
     "text": [
      "stat\t\t\t\t: 4.000138803968834\n",
      "pvalue for the two-tailed test\t: 6.580474443773579e-05\n"
     ]
    }
   ],
   "source": [
    "stat3, pval3 = ttest_1samp(data_ss[\"hourly_rate\"], 35)\n",
    "print('stat\\t\\t\\t\\t:', stat3)\n",
    "print('pvalue for the two-tailed test\\t:', pval3)"
   ]
  },
  {
   "cell_type": "code",
   "execution_count": null,
   "metadata": {},
   "outputs": [],
   "source": [
    "# the pvalue is so low, we reject the equal part where hourly rate = 35.0\n",
    "# but the stat is positive, so we dont reject the part where hourly rate > 35.0\n",
    "# and we see that the confidence interval is between 35.28 and 35.82.\n",
    "# so there is 95% certainty that the mean of the hourly rate lies in that interval (is this correct?)"
   ]
  },
  {
   "cell_type": "markdown",
   "metadata": {},
   "source": [
    "# Challenge 3: To practice - Constructing Confidence Intervals\n",
    "\n",
    "While testing our hypothesis is a great way to gather empirical evidence for accepting or rejecting the hypothesis, another way to gather evidence is by creating a confidence interval. A confidence interval gives us information about the true mean of the population. So for a 95% confidence interval, we are 95% sure that the mean of the population is within the confidence interval. \n",
    ").\n",
    "\n",
    "To read more about confidence intervals, click [here](https://en.wikipedia.org/wiki/Confidence_interval).\n",
    "\n",
    "\n",
    "In the cell below, we will construct a 95% confidence interval for the mean hourly wage of all hourly workers. \n",
    "\n",
    "The confidence interval is computed in SciPy using the `t.interval` function. You can read more about this function [here](https://docs.scipy.org/doc/scipy-0.14.0/reference/generated/scipy.stats.t.html).\n",
    "\n",
    "To compute the confidence interval of the hourly wage, use the 0.95 for the confidence level, number of rows - 1 for degrees of freedom, the mean of the sample for the location parameter and the standard error for the scale. The standard error can be computed using [this](https://docs.scipy.org/doc/scipy/reference/generated/scipy.stats.sem.html) function in SciPy."
   ]
  },
  {
   "cell_type": "code",
   "execution_count": 54,
   "metadata": {},
   "outputs": [
    {
     "name": "stdout",
     "output_type": "stream",
     "text": [
      "confidence interval: (34.29839539204317, 34.874504045196865) .\n"
     ]
    }
   ],
   "source": [
    "# Your code here:\n",
    "confidence_level1 = 0.95\n",
    "degrees_freedom1 = (data_hourly.shape[0]) - 1\n",
    "sample_mean1 = data_hourly[\"hourly_rate\"].mean()\n",
    "sample_standard_error1 = scipy.stats.sem(data_hourly[\"hourly_rate\"])\n",
    "confidence_interval1 = scipy.stats.t.interval(confidence_level1, \n",
    "                                             degrees_freedom1, \n",
    "                                             sample_mean1, \n",
    "                                             sample_standard_error1)\n",
    "print( 'confidence interval:', confidence_interval1, '.' )"
   ]
  },
  {
   "cell_type": "markdown",
   "metadata": {},
   "source": [
    "Now construct the 95% confidence interval for all salaried employeed in the police in the cell below."
   ]
  },
  {
   "cell_type": "code",
   "execution_count": 55,
   "metadata": {},
   "outputs": [
    {
     "name": "stdout",
     "output_type": "stream",
     "text": [
      "confidence interval: (88534.1182885883, 89134.11955863392) .\n"
     ]
    }
   ],
   "source": [
    "# Your code here:\n",
    "onfidence_level2 = 0.95\n",
    "degrees_freedom2 = (data_police.shape[0]) - 1\n",
    "sample_mean2 = data_police[\"annual_salary\"].mean()\n",
    "sample_standard_error2 = scipy.stats.sem(data_police[\"annual_salary\"])\n",
    "confidence_interval2 = scipy.stats.t.interval(confidence_level2, \n",
    "                                             degrees_freedom2, \n",
    "                                             sample_mean2, \n",
    "                                             sample_standard_error2)\n",
    "print( 'confidence interval:', confidence_interval2, '.' )"
   ]
  },
  {
   "cell_type": "markdown",
   "metadata": {},
   "source": [
    "# Bonus Challenge - Hypothesis Tests of Proportions\n",
    "\n",
    "Another type of one sample test is a hypothesis test of proportions. In this test, we examine whether the proportion of a group in our sample is significantly different than a fraction. \n",
    "\n",
    "You can read more about one sample proportion tests [here](http://sphweb.bumc.bu.edu/otlt/MPH-Modules/BS/SAS/SAS6-CategoricalData/SAS6-CategoricalData2.html).\n",
    "\n",
    "In the cell below, use the `proportions_ztest` function from `statsmodels` to perform a hypothesis test that will determine whether the number of hourly workers in the City of Chicago is significantly different from 25% at the 95% confidence level."
   ]
  },
  {
   "cell_type": "code",
   "execution_count": 57,
   "metadata": {},
   "outputs": [
    {
     "name": "stdout",
     "output_type": "stream",
     "text": [
      "Collecting statsmodels\n",
      "  Downloading statsmodels-0.13.5-cp310-cp310-win_amd64.whl (9.1 MB)\n",
      "Requirement already satisfied: scipy>=1.3 in d:\\python 3.10\\lib\\site-packages (from statsmodels) (1.9.3)\n",
      "Collecting patsy>=0.5.2\n",
      "  Downloading patsy-0.5.3-py2.py3-none-any.whl (233 kB)\n",
      "Requirement already satisfied: pandas>=0.25 in d:\\python 3.10\\lib\\site-packages (from statsmodels) (1.4.1)\n",
      "Requirement already satisfied: packaging>=21.3 in d:\\python 3.10\\lib\\site-packages (from statsmodels) (21.3)\n",
      "Collecting numpy>=1.22.3\n",
      "  Downloading numpy-1.24.1-cp310-cp310-win_amd64.whl (14.8 MB)\n",
      "Requirement already satisfied: pyparsing!=3.0.5,>=2.0.2 in d:\\python 3.10\\lib\\site-packages (from packaging>=21.3->statsmodels) (3.0.9)\n",
      "Requirement already satisfied: python-dateutil>=2.8.1 in d:\\python 3.10\\lib\\site-packages (from pandas>=0.25->statsmodels) (2.8.2)\n",
      "Requirement already satisfied: pytz>=2020.1 in d:\\python 3.10\\lib\\site-packages (from pandas>=0.25->statsmodels) (2021.3)\n",
      "Requirement already satisfied: six in d:\\python 3.10\\lib\\site-packages (from patsy>=0.5.2->statsmodels) (1.16.0)\n",
      "Installing collected packages: numpy, patsy, statsmodels\n",
      "  Attempting uninstall: numpy\n",
      "    Found existing installation: numpy 1.22.2\n",
      "    Uninstalling numpy-1.22.2:\n",
      "      Successfully uninstalled numpy-1.22.2\n",
      "Note: you may need to restart the kernel to use updated packages.\n"
     ]
    },
    {
     "name": "stderr",
     "output_type": "stream",
     "text": [
      "WARNING: Ignoring invalid distribution -ip (d:\\python 3.10\\lib\\site-packages)\n",
      "WARNING: Ignoring invalid distribution -ip (d:\\python 3.10\\lib\\site-packages)\n",
      "WARNING: Ignoring invalid distribution -ip (d:\\python 3.10\\lib\\site-packages)\n",
      "    WARNING: Ignoring invalid distribution -ip (d:\\python 3.10\\lib\\site-packages)\n",
      "ERROR: Could not install packages due to an OSError: [WinError 5] Access is denied: 'D:\\\\Python 3.10\\\\Lib\\\\site-packages\\\\~umpy\\\\.libs\\\\libopenblas.EL2C6PLE4ZYW3ECEVIV3OXXGRN2NRFM2.gfortran-win_amd64.dll'\n",
      "Consider using the `--user` option or check the permissions.\n",
      "\n",
      "WARNING: Ignoring invalid distribution -ip (d:\\python 3.10\\lib\\site-packages)\n",
      "WARNING: Ignoring invalid distribution -ip (d:\\python 3.10\\lib\\site-packages)\n",
      "WARNING: Ignoring invalid distribution -ip (d:\\python 3.10\\lib\\site-packages)\n",
      "WARNING: You are using pip version 21.2.4; however, version 22.3.1 is available.\n",
      "You should consider upgrading via the 'd:\\Python 3.10\\python.exe -m pip install --upgrade pip' command.\n"
     ]
    }
   ],
   "source": [
    "pip install statsmodels"
   ]
  },
  {
   "cell_type": "code",
   "execution_count": 58,
   "metadata": {},
   "outputs": [
    {
     "ename": "ModuleNotFoundError",
     "evalue": "No module named 'statsmodels'",
     "output_type": "error",
     "traceback": [
      "\u001b[1;31m---------------------------------------------------------------------------\u001b[0m",
      "\u001b[1;31mModuleNotFoundError\u001b[0m                       Traceback (most recent call last)",
      "Cell \u001b[1;32mIn [58], line 4\u001b[0m\n\u001b[0;32m      1\u001b[0m \u001b[39m# Your code here:\u001b[39;00m\n\u001b[0;32m      2\u001b[0m \u001b[39m# h0: number of hourly worker = 25% of total worker\u001b[39;00m\n\u001b[0;32m      3\u001b[0m \u001b[39m# h1: number of hourly worker <> 25 of total worker\u001b[39;00m\n\u001b[1;32m----> 4\u001b[0m \u001b[39mfrom\u001b[39;00m \u001b[39mstatsmodels\u001b[39;00m\u001b[39m.\u001b[39;00m\u001b[39mstats\u001b[39;00m\u001b[39m.\u001b[39;00m\u001b[39mproportion\u001b[39;00m \u001b[39mimport\u001b[39;00m proportions_ztest\n\u001b[0;32m      5\u001b[0m data_prop \u001b[39m=\u001b[39m data\u001b[39m.\u001b[39mdropna(subset \u001b[39m=\u001b[39m \u001b[39m\"\u001b[39m\u001b[39mhourly_rate\u001b[39m\u001b[39m\"\u001b[39m)\n\u001b[0;32m      6\u001b[0m data_prop \u001b[39m=\u001b[39m data_prop\u001b[39m.\u001b[39mdrop([\u001b[39m\"\u001b[39m\u001b[39mannual_salary\u001b[39m\u001b[39m\"\u001b[39m], axis \u001b[39m=\u001b[39m \u001b[39m1\u001b[39m)\n",
      "\u001b[1;31mModuleNotFoundError\u001b[0m: No module named 'statsmodels'"
     ]
    }
   ],
   "source": [
    "# Your code here:\n",
    "# h0: number of hourly worker = 25% of total worker\n",
    "# h1: number of hourly worker <> 25 of total worker\n",
    "from statsmodels.stats.proportion import proportions_ztest\n",
    "data_prop = data.dropna(subset = \"hourly_rate\")\n",
    "data_prop = data_prop.drop([\"annual_salary\"], axis = 1)\n",
    "display(data_prop.shape)\n",
    "display(data_prop.isna().sum())\n"
   ]
  },
  {
   "cell_type": "code",
   "execution_count": 59,
   "metadata": {},
   "outputs": [],
   "source": [
    "# hmmm...."
   ]
  }
 ],
 "metadata": {
  "kernelspec": {
   "display_name": "Python 3.10.2 64-bit",
   "language": "python",
   "name": "python3"
  },
  "language_info": {
   "codemirror_mode": {
    "name": "ipython",
    "version": 3
   },
   "file_extension": ".py",
   "mimetype": "text/x-python",
   "name": "python",
   "nbconvert_exporter": "python",
   "pygments_lexer": "ipython3",
   "version": "3.10.2"
  },
  "vscode": {
   "interpreter": {
    "hash": "1acc24bd1901f9ae8c29efb6830fcc1ca9fe0219dd00f8f1dc1b91856def15a9"
   }
  }
 },
 "nbformat": 4,
 "nbformat_minor": 2
}
